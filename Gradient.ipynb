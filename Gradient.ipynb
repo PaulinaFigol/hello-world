{
 "cells": [
  {
   "cell_type": "code",
   "execution_count": 1,
   "metadata": {},
   "outputs": [
    {
     "name": "stdout",
     "output_type": "stream",
     "text": [
      "1.0\n"
     ]
    },
    {
     "data": {
      "text/plain": [
       "[1.0,\n",
       " 1.2426122638850534,\n",
       " 1.4852245277701068,\n",
       " 1.7278367916551602,\n",
       " 1.9704490555402137,\n",
       " 2.213061319425267,\n",
       " 2.45567358331032,\n",
       " 2.6982858471953732,\n",
       " 2.9408981110804264,\n",
       " 3.1835103749654796,\n",
       " 3.426122638850533,\n",
       " 3.668734902735586,\n",
       " 3.911347166620639,\n",
       " 4.153959430505693,\n",
       " 4.3965716943907465,\n",
       " 4.6391839582758]"
      ]
     },
     "execution_count": 1,
     "metadata": {},
     "output_type": "execute_result"
    }
   ],
   "source": [
    "\"\"\"A set of numpy exercises\"\"\"\n",
    "import numpy as np\n",
    "import matplotlib.pyplot as plt\n",
    "\n",
    "\n",
    "def gradient_descent(x_0, learning_rate, tol):\n",
    "    \"\"\"\n",
    "    Write a function that does gradient descent with a fixed learning_rate\n",
    "    on function f with gradient g and stops when the update has magnitude \n",
    "    under a given tolerance level (i.e. when |xk-x(k-1)| < tol).\n",
    "    Return a tuple with the position, the value of f at that position and the\n",
    "    magnitude of the last update.\n",
    "    h(x) = (x-1)^2 + exp(-x^2/2)\n",
    "    f(x) = log(h(x))\n",
    "    g(x) = (2(x-1) - x exp(-x^2/2)) / h(x)\n",
    "\n",
    "    Example:\n",
    "    (1.0, 0.1, 1e-3) --> approximately (1.2807, -0.6555, 0.0008)\n",
    "\n",
    "    :param x_0: initial point\n",
    "    :type x_0: float\n",
    "    :param learning_rate: fixed learning_rate\n",
    "    :type learning_rate: float\n",
    "    :param tol: tolerance for the magnitude of the update\n",
    "    :type tol: float\n",
    "    :return: the position, the value at that position and the latest update\n",
    "    :rtype: tuple of three float\n",
    "    \"\"\"\n",
    "    fun_h = (x_0 - 1) ** 2 + (-x_0 ** 2 / 2)**2\n",
    "    fun_f = np.log(fun_h)\n",
    "    fun_g = (2*(x_0-1) - x_0 * np.exp(-x_0**2/2))/ fun_h\n",
    "\n",
    "    # To fill with values\n",
    "    x_gd = []\n",
    "    y_gd = []\n",
    "    \n",
    "    x_gd.append(x_0)\n",
    "    y_gd.append(np.log((x_0 - 1) ** 2 + (-x_0 ** 2 / 2)**2))\n",
    "    \n",
    "    current_x = x_0\n",
    "    print(current_x)\n",
    "    # begin the loops to update x and y with out cost function\n",
    "    change = 1\n",
    "    #while(change>tol):\n",
    "    for i in range(15):\n",
    "        current_x = x_0 - learning_rate * fun_g\n",
    "        x_gd.append(current_x)\n",
    "        change = np.abs(x_0-current_x)\n",
    "        x_0 = current_x\n",
    "        y_gd.append(np.log((current_x - 1) ** 2 + (-current_x ** 2 / 2)**2))\n",
    "        plt.plot(y_gd, label=\"function f\")\n",
    "    return x_gd\n",
    "\n",
    "\n",
    "gradient_descent(1.0, 0.1, 1e-3)\n",
    "\n",
    "\n",
    "\n",
    "\n"
   ]
  },
  {
   "cell_type": "code",
   "execution_count": null,
   "metadata": {},
   "outputs": [],
   "source": []
  }
 ],
 "metadata": {
  "kernelspec": {
   "display_name": "Python 3",
   "language": "python",
   "name": "python3"
  },
  "language_info": {
   "codemirror_mode": {
    "name": "ipython",
    "version": 3
   },
   "file_extension": ".py",
   "mimetype": "text/x-python",
   "name": "python",
   "nbconvert_exporter": "python",
   "pygments_lexer": "ipython3",
   "version": "3.6.5"
  }
 },
 "nbformat": 4,
 "nbformat_minor": 2
}
